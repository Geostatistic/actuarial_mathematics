{
 "cells": [
  {
   "cell_type": "markdown",
   "metadata": {},
   "source": [
    "# <center>**Aggregate Loss Models**</center>\n",
    "Aggregate claims to produce a portfolio with desirable properties making the risk manageable"
   ]
  },
  {
   "cell_type": "code",
   "execution_count": 7,
   "metadata": {},
   "outputs": [],
   "source": [
    "import numpy as np\n",
    "from scipy import linalg as la\n",
    "from matplotlib import pyplot as plt"
   ]
  },
  {
   "cell_type": "markdown",
   "metadata": {},
   "source": [
    "---\n",
    "## **1. Individual risk models**\n",
    "This aggregate loss model works under the following assumptions\n",
    "1. The total loss is measured by first fixing the number $n \\in \\mathbb{N}$ of insurance contracts.\n",
    "2. The claims $X_1, \\ldots, X_n$ by insurance contract are indenpendent, but not necessarily identically distributed.\n",
    "\n",
    "The aggregate loss is given by adding the claims of each contract, taking into consideration that $\\mathbb{E}[X_i] = \\mu_i$, for each $i \\in \\{1,\\ldots,n\\}$.\n",
    "\\begin{equation}\n",
    "S = \\sum\\limits_{i=1}^n X_i\n",
    "\\end{equation}\n",
    "\n",
    "the expected aggregate loss\n",
    "\\begin{equation}\n",
    "\\mathbb{E}[S] = \\sum\\limits_{i=1}^n \\mathbb{E}[X_i] = \\sum\\limits_{i=1}^n \\mu_i\n",
    "\\end{equation}\n",
    "\n",
    "the variance of the aggregated loss can be computed by employing the idependency between the $X_1,\\ldots,X_n$ variables.\n",
    "\\begin{eqnarray}\n",
    "\\mathbb{V}[S]\n",
    "& = & \\mathbb{Cov}[S,S] \\\\\n",
    "\\end{eqnarray}\n",
    "\n",
    "If in addition the claims by insurance contract $X_1,\\ldots,X_n$ are identically distributed, the expected values are identical $\\mu = \\mu_1 = \\cdots = \\mu_n$, in consequence the expected aggregate loss has the following expression.\n",
    "\n",
    "\\begin{equation}\n",
    "\\mathbb{E}[S] = n \\mathbb{E}[X] = n \\mu\n",
    "\\end{equation}\n",
    "\n",
    "The cummulative distribution function of the aggregate loss can be expresed by the convolution of the individual claims\n",
    "\\begin{equation}\n",
    "F_S = F_{X_1} \\ast F_{X_2} \\ast \\cdots \\ast F_{X_n}\n",
    "\\end{equation}\n",
    "\n",
    "\\begin{equation}\n",
    "( F \\ast G ) (x) = \\int\\limits_{-\\infty}^{\\infty} F(x - y)G( y )\\ dy\n",
    "\\end{equation}\n",
    "\n",
    "In particular when the functions $F_{X_1},\\ldots, F_{X_n}$ are identical, we use the following simplified expression\n",
    "\\begin{equation}\n",
    "F_X^{\\ast n} = F_{X_1} \\ast F_{X_2} \\ast \\cdots \\ast F_{X_n}\n",
    "\\end{equation}"
   ]
  },
  {
   "cell_type": "markdown",
   "metadata": {},
   "source": [
    "### **1. Example**\n",
    "We consider the case when each claim follows a log-normal distribution, $X_i \\rightsquigarrow LN( \\mu, \\sigma )$ and are independent identically distributed (i.i.d), then for a given number of insurance contracts $n \\in \\mathbb{N}$.\n",
    "\n",
    "\\begin{equation}\n",
    "\\mathbb{E}[X] = \\exp\\left( \\mu + \\frac{1}{2}\\sigma^2 \\right)\n",
    "\\end{equation}\n",
    "\n",
    "\\begin{equation}\n",
    "\\mathbb{E}[S] = n \\exp\\left( \\mu + \\frac{1}{2}\\sigma^2 \\right)\n",
    "\\end{equation}"
   ]
  },
  {
   "cell_type": "code",
   "execution_count": 8,
   "metadata": {},
   "outputs": [
    {
     "name": "stdout",
     "output_type": "stream",
     "text": [
      "Expected claim E[X]: 2048.78\n",
      "Expected aggregate loss E[S]: 717073.16\n"
     ]
    }
   ],
   "source": [
    "n = 350\n",
    "u = 6.5\n",
    "s = 1.5\n",
    "\n",
    "EX = np.exp( 6.5 + 0.5 * 1.5**2 )\n",
    "print( \"Expected claim E[X]: {:.2f}\".format( EX ) )\n",
    "\n",
    "ES = n * EX\n",
    "print( \"Expected aggregate loss E[S]: {:.2f}\".format( ES ) )"
   ]
  },
  {
   "cell_type": "markdown",
   "metadata": {},
   "source": [
    "---\n",
    "## **Collective risk model**"
   ]
  },
  {
   "cell_type": "markdown",
   "metadata": {},
   "source": [
    "\\begin{equation}\n",
    "S = \\sum\\limits_{i=1}^N X_i\n",
    "\\end{equation}\n",
    "\n",
    "\\begin{equation}\n",
    "\\mathbb{E}[S] = \\sum\\limits_{n=0}^\\infty \\sum\\limits_{i=1}^n \\mathbb{E}[X_i] P( N = n )\n",
    "\\end{equation}\n",
    "\n",
    "\\begin{equation}\n",
    "\\mathbb{E}[S] = \\sum\\limits_{n=0}^\\infty n \\mathbb{E}[X] P( N = n ) = \\mathbb{E}[N] \\mathbb{E}[X]\n",
    "\\end{equation}"
   ]
  },
  {
   "cell_type": "markdown",
   "metadata": {},
   "source": [
    "### **2. Example**\n",
    "Consider $X_i \\rightsquigarrow LN( \\mu, \\sigma )$ and $N \\rightsquigarrow Pois( \\lambda )$ then\n",
    "\\begin{equation}\n",
    "\\mathbb{E}[X] = \\exp\\left( \\mu + \\frac{1}{2}\\sigma^2 \\right)\n",
    "\\end{equation}\n",
    "\n",
    "\\begin{equation}\n",
    "\\mathbb{E}[S] = \\mathbb{E}[N] \\mathbb{E}[X] = \\lambda \\exp\\left( \\mu + \\frac{1}{2}\\sigma^2 \\right)\n",
    "\\end{equation}\n"
   ]
  },
  {
   "cell_type": "code",
   "execution_count": 3,
   "metadata": {},
   "outputs": [
    {
     "name": "stdout",
     "output_type": "stream",
     "text": [
      "Mean claim E[X]:  2048.780465020098\n",
      "Mean number claim E[N]:  200\n",
      "Mean total claim E[S]:  409756.0930040196\n",
      "Net premium P:  1170.7316942971988\n"
     ]
    }
   ],
   "source": [
    "n = 350\n",
    "lamb = 200\n",
    "u = 6.5\n",
    "s = 1.5\n",
    "\n",
    "EX = np.exp( u + 0.5 * s**2 )\n",
    "EN = lamb\n",
    "\n",
    "print( 'Mean claim E[X]: ', EX )\n",
    "print( 'Mean number claim E[N]: ', EN )\n",
    "\n",
    "ES = EN * EX \n",
    "print( 'Mean total claim E[S]: ', ES )\n",
    "P = ES / n\n",
    "print( 'Net premium P: ', P )"
   ]
  },
  {
   "cell_type": "markdown",
   "metadata": {},
   "source": [
    "---\n",
    "## **Moment generating**\n",
    "\\begin{equation}\n",
    "S = \\sum_{k=1}^n \\sum_{i=1}^{N_k} X_{k,i}\n",
    "\\end{equation}\n",
    "\n",
    "\\begin{equation}\n",
    "\\mathbb{E}[S] = \\sum_{k=1}^n \\sum_{m=0}^\\infty \\sum_{i=1}^m \\mathbb{E}[X_{k,i}] P( N_k = m )\n",
    "\\end{equation}\n",
    "\n",
    "\\begin{equation}\n",
    "\\mathbb{E}[S] = \\sum_{k=1}^n \\mathbb{E}[X_k]  \\sum_{n=0}^\\infty m P( N = m ) = \\sum_{k=1}^n \\mathbb{E}[N_k] \\mathbb{E}[X_k] = n \\mathbb{E}[N] \\mathbb{E}[X]\n",
    "\\end{equation}\n",
    "\n",
    "\\begin{eqnarray}\n",
    "M_S( \\tau ) \n",
    "& = & \\mathbb{E}\\left[ \\exp( \\tau S ) \\right] \\\\\n",
    "& = & \\sum_{n=0}^\\infty \\mathbb{E}\\left[ \\exp( \\tau ( X_1 + \\cdots + X_n ) ) \\middle| N = n \\right] P( N = n ) \\\\\n",
    "& = & \\sum_{n=0}^\\infty \\mathbb{E}\\left[ \\exp( \\tau X )^n \\right] P( N = n ) \\\\\n",
    "& = & \\sum_{n=0}^\\infty M_X( \\tau )^n P( N = n ) \\\\\n",
    "& = & \\mathbb{E}\\left[  M_X( \\tau )^N \\right] \\\\\n",
    "& = & \\mathbb{E}\\bigg[  \\exp\\bigg( \\log( M_X( \\tau ) ) N \\bigg) \\bigg] \\\\\n",
    "& = & M_N\\bigg(  \\log( M_X( \\tau ) ) \\bigg)\n",
    "\\end{eqnarray}"
   ]
  },
  {
   "cell_type": "markdown",
   "metadata": {},
   "source": [
    "---\n",
    "# <center> **Valuation with stochastic simulations** </center>"
   ]
  },
  {
   "cell_type": "code",
   "execution_count": 8,
   "metadata": {},
   "outputs": [],
   "source": [
    "m = 500\n",
    "S = np.zeros( m )\n",
    "\n",
    "for i in range( 0, m ): \n",
    "    S[i] = np.sum( np.random.lognormal( mean = u, sigma = s, size = n ) )\n",
    "\n",
    "ES = np.mean( S )\n",
    "print( 'Mean total claim E[S]: ', ES )"
   ]
  },
  {
   "cell_type": "code",
   "execution_count": 8,
   "metadata": {},
   "outputs": [],
   "source": [
    "plt.xlabel( 'Iterations' )\n",
    "plt.ylabel( 'Gradient norm' )\n",
    "plt.title( 'Error by iteration' )\n",
    "# plt.yscale( 'log' )\n",
    "plt.plot( S )"
   ]
  },
  {
   "cell_type": "code",
   "execution_count": 8,
   "metadata": {},
   "outputs": [
    {
     "name": "stdout",
     "output_type": "stream",
     "text": [
      "Mean total claim E[S]:  411597.4877248944\n",
      "Net premium P:  1175.992822071127\n"
     ]
    }
   ],
   "source": [
    "m = 1000\n",
    "S = np.zeros( m )\n",
    "\n",
    "for i in range( 0, m ): \n",
    "    N = np.random.poisson( lam = lamb, size = 1 )\n",
    "    S[i] = np.sum( np.random.lognormal( mean = u, sigma = s, size = N ) )\n",
    "\n",
    "ES = np.mean( S )\n",
    "print( 'Mean total claim E[S]: ', ES )\n",
    "\n",
    "P = ES / n\n",
    "print( 'Net premium P: ', P )"
   ]
  },
  {
   "cell_type": "code",
   "execution_count": 10,
   "metadata": {},
   "outputs": [
    {
     "data": {
      "text/plain": [
       "Text(0.5, 1.0, 'My Very Own Histogram')"
      ]
     },
     "execution_count": 10,
     "metadata": {},
     "output_type": "execute_result"
    },
    {
     "data": {
      "image/png": "[encoded data removed]",
      "text/plain": [
       "<Figure size 432x288 with 1 Axes>"
      ]
     },
     "metadata": {
      "needs_background": "light"
     },
     "output_type": "display_data"
    }
   ],
   "source": [
    "nn, bins, patches = plt.hist( x = S, bins = 'auto', color='#254455', alpha = 0.7, rwidth = 0.85 )\n",
    "plt.grid( axis = 'y', alpha = 0.5 )\n",
    "plt.xlabel('Value')\n",
    "plt.ylabel('Frequency')\n",
    "plt.title('My Very Own Histogram')"
   ]
  }
 ],
 "metadata": {
  "kernelspec": {
   "display_name": "Python 3",
   "language": "python",
   "name": "python3"
  },
  "language_info": {
   "codemirror_mode": {
    "name": "ipython",
    "version": 3
   },
   "file_extension": ".py",
   "mimetype": "text/x-python",
   "name": "python",
   "nbconvert_exporter": "python",
   "pygments_lexer": "ipython3",
   "version": "3.7.3"
  }
 },
 "nbformat": 4,
 "nbformat_minor": 5
}
