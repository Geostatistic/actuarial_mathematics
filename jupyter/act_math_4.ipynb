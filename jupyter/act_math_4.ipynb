{
 "cells": [
  {
   "cell_type": "code",
   "execution_count": 1,
   "metadata": {},
   "outputs": [],
   "source": [
    "# Numerical python library, importing all\n",
    "import numpy as np\n",
    "\n",
    "# Scientific computing python library, importing linalg sections\n",
    "from scipy import linalg\n",
    "\n",
    "# Plotting library\n",
    "from matplotlib import pyplot as plt"
   ]
  },
  {
   "cell_type": "markdown",
   "metadata": {},
   "source": [
    "## Force of transition\n",
    "\\begin{equation}\n",
    "U_x\n",
    "= \\left[\n",
    "\\begin{array}{llll}\n",
    "u^{00}_x & u^{01}_x & u^{02}_x & u^{03}_x \\\\\n",
    "0 & u^{11}_x & 0 & u^{13}_x \\\\\n",
    "0 & 0 & u^{22}_x & u^{23}_x \\\\\n",
    "0 & 0 & 0 & 0\n",
    "\\end{array}\n",
    "\\right]\n",
    "\\end{equation}\n",
    "And\n",
    "\\begin{equation}\n",
    "\\sum_{j=0}^3 u^{ij}_x = 0, \\qquad \\forall i \\in \\{0,\\ldots,3\\}\n",
    "\\end{equation}"
   ]
  },
  {
   "cell_type": "code",
   "execution_count": 71,
   "metadata": {},
   "outputs": [],
   "source": [
    "def U( x ) :\n",
    "  A = 0.001\n",
    "  B = 0.0004\n",
    "  c = 1.07\n",
    "  \n",
    "  u01 = 0.001 * x\n",
    "  u02 = 0.01\n",
    "  u03 = A + B * c**x\n",
    "  u00 = -( u01 + u02 + u03 )\n",
    "  \n",
    "  U = np.array( [ [ u00, u01, u02, u03 ], [ 0, -u03, 0, u03 ], [ 0, 0, -u03, u03 ], [ 0, 0, 0, 0 ] ] )\n",
    "\n",
    "  return U"
   ]
  },
  {
   "cell_type": "markdown",
   "metadata": {},
   "source": [
    "\\begin{equation}\n",
    "P_x = \\exp( U_x )\n",
    "\\end{equation}\n",
    "\n",
    "\\begin{equation}\n",
    "P_x = \\left[\n",
    "\\begin{array}{llll}\n",
    "p^{00}_x & p^{01}_x & p^{02}_x & p^{03}_x \\\\\n",
    "0 & p^{11}_x & 0 & p^{13}_x \\\\\n",
    "0 & 0 & p^{22}_x & p^{23}_x \\\\\n",
    "0 & 0 & 0 & 1\n",
    "\\end{array}\n",
    "\\right]\n",
    "\\end{equation}\n",
    "And\n",
    "\\begin{equation}\n",
    "\\sum_{j=0}^3 p^{ij}_x = 1, \\qquad \\forall i \\in \\{0,\\ldots,3\\}\n",
    "\\end{equation}"
   ]
  },
  {
   "cell_type": "code",
   "execution_count": 72,
   "metadata": {},
   "outputs": [],
   "source": [
    "def P( x ) :\n",
    "  return linalg.expm( U( x ) )"
   ]
  },
  {
   "cell_type": "code",
   "execution_count": 73,
   "metadata": {},
   "outputs": [
    {
     "data": {
      "text/plain": [
       "1.0000000000000002"
      ]
     },
     "execution_count": 73,
     "metadata": {},
     "output_type": "execute_result"
    }
   ],
   "source": [
    "# Check\n",
    "np.max( [ np.sum( P( x ), axis = 1 ) for x in range( 0, 101 ) ] )"
   ]
  },
  {
   "cell_type": "markdown",
   "metadata": {},
   "source": [
    "### Annuities"
   ]
  },
  {
   "cell_type": "code",
   "execution_count": 76,
   "metadata": {},
   "outputs": [],
   "source": [
    "def annuities( x, v, P, n ) :\n",
    "  Pk = P( x )\n",
    "  d = Pk.shape[0]\n",
    "  a = np.eye( d )\n",
    "  \n",
    "  if isinstance( v, np.ndarray ) :\n",
    "    a = v[0] * a\n",
    "    if v.size > 1 : \n",
    "      for k in range( 1, n + 1 ) :\n",
    "        Pk = P( x + k ) * Pk\n",
    "        a = a + v[k] * Pk\n",
    "        \n",
    "  else :\n",
    "    for k in range( 1, n + 1 ) :\n",
    "      Pk = P( x + k ) * Pk\n",
    "      a = a + ( v**k ) * Pk\n",
    "  \n",
    "  return a"
   ]
  },
  {
   "cell_type": "code",
   "execution_count": 75,
   "metadata": {},
   "outputs": [
    {
     "data": {
      "text/plain": [
       "array([[3.55271368e-15, 0.00000000e+00, 0.00000000e+00, 0.00000000e+00],\n",
       "       [0.00000000e+00, 3.55271368e-15, 0.00000000e+00, 0.00000000e+00],\n",
       "       [0.00000000e+00, 0.00000000e+00, 3.55271368e-15, 0.00000000e+00],\n",
       "       [0.00000000e+00, 0.00000000e+00, 0.00000000e+00, 8.88178420e-15]])"
      ]
     },
     "execution_count": 75,
     "metadata": {},
     "output_type": "execute_result"
    }
   ],
   "source": [
    "# Check\n",
    "v = np.array( [ 1/1.04**k for k in range( 0, 21 ) ] )\n",
    "annuities( 25, v, P, 20 ) - annuities( 25, 1/1.04, P, 20 )"
   ]
  },
  {
   "cell_type": "code",
   "execution_count": null,
   "metadata": {},
   "outputs": [],
   "source": []
  }
 ],
 "metadata": {
  "kernelspec": {
   "display_name": "Python 3",
   "language": "python",
   "name": "python3"
  },
  "language_info": {
   "codemirror_mode": {
    "name": "ipython",
    "version": 3
   },
   "file_extension": ".py",
   "mimetype": "text/x-python",
   "name": "python",
   "nbconvert_exporter": "python",
   "pygments_lexer": "ipython3",
   "version": "3.7.3"
  }
 },
 "nbformat": 4,
 "nbformat_minor": 5
}
