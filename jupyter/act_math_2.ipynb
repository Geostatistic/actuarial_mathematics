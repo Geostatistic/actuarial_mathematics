{
 "cells": [
  {
   "cell_type": "markdown",
   "metadata": {},
   "source": [
    "# <center> **Deductibles** </center>"
   ]
  },
  {
   "cell_type": "code",
   "execution_count": 1,
   "metadata": {},
   "outputs": [],
   "source": [
    "# Numerical python library, importing all\n",
    "import numpy as np\n",
    "\n",
    "# Scientific computing python library, importing linalg sections\n",
    "from scipy import linalg\n",
    "\n",
    "# Plotting library\n",
    "from matplotlib import pyplot as plt\n",
    "\n",
    "# Numerical integration\n",
    "from scipy import integrate as intg\n",
    "from scipy import stats as st\n",
    "from mpmath import mp"
   ]
  },
  {
   "cell_type": "markdown",
   "metadata": {},
   "source": [
    "## **1. Models with deductibles**\n",
    "$\\def\\idenp{\\perp\\!\\!\\perp}$\n",
    "$N \\idenp X$\n",
    "\n",
    "\\begin{equation}\n",
    "S = \\sum\\limits_{i=1}^N D( X_i )\n",
    "\\end{equation}\n",
    "\n",
    "\\begin{equation}\n",
    "\\mathbb{E}[S] = \\sum\\limits_{n=0}^\\infty \\sum\\limits_{i=1}^n \\mathbb{E}[ D( X_i ) ] P( N = n )\n",
    "\\end{equation}\n",
    "\n",
    "$X_i \\idenp X_j$, for every $i \\neq j$\n",
    "\\begin{equation}\n",
    "\\mathbb{E}[S] = \\sum\\limits_{n=0}^\\infty n \\mathbb{E}[D( X )] P( N = n ) = \\mathbb{E}[N] \\mathbb{E}[D(X)]\n",
    "\\end{equation}"
   ]
  },
  {
   "cell_type": "markdown",
   "metadata": {},
   "source": [
    "## **2. Types of deductibles**\n",
    "Consider $X_i \\rightsquigarrow LN( \\mu, \\sigma )$ and $N \\rightsquigarrow Pois( \\lambda )$"
   ]
  },
  {
   "cell_type": "code",
   "execution_count": 2,
   "metadata": {},
   "outputs": [
    {
     "name": "stdout",
     "output_type": "stream",
     "text": [
      "5\n",
      "2048.780465020098\n",
      "10243.90232510049\n"
     ]
    }
   ],
   "source": [
    "u = 6.5\n",
    "s = 1.5\n",
    "lam = 5\n",
    "\n",
    "LN = lambda x : ( 1 / ( s * x * mp.sqrt( 2 * mp.pi ) ) ) * mp.exp( -( ( mp.log( x ) - u )**2 ) / ( 2 * s**2 ) )\n",
    "EX = np.exp( u + 0.5 * s**2 )\n",
    "EN = lam\n",
    "ES = EN * EX\n",
    "\n",
    "print( EN )\n",
    "print( EX )\n",
    "print( ES )"
   ]
  },
  {
   "cell_type": "markdown",
   "metadata": {},
   "source": [
    "### **1. Zero deduction**\n",
    "$D(X) = X$, with mean $\\mathbb{E}[D(X)] = \\mathbb{E}[X]$\n",
    "\n",
    "#### Example"
   ]
  },
  {
   "cell_type": "code",
   "execution_count": 3,
   "metadata": {},
   "outputs": [
    {
     "name": "stdout",
     "output_type": "stream",
     "text": [
      "2048.780465020098\n",
      "10243.90232510049\n"
     ]
    }
   ],
   "source": [
    "ED1 = EX\n",
    "ES = EN * EX\n",
    "\n",
    "print( EX )\n",
    "print( ES )"
   ]
  },
  {
   "cell_type": "markdown",
   "metadata": {},
   "source": [
    "### 2. Copayment\n",
    "$D(X) = (1 - \\alpha) X$, with mean $\\mathbb{E}[D(X)] = (1 - \\alpha) \\mathbb{E}[X]$"
   ]
  },
  {
   "cell_type": "code",
   "execution_count": 4,
   "metadata": {},
   "outputs": [
    {
     "name": "stdout",
     "output_type": "stream",
     "text": [
      "1843.902418518088\n",
      "9219.512092590441\n"
     ]
    }
   ],
   "source": [
    "alpha = 0.1\n",
    "ED2 = ( 1 - alpha ) * EX\n",
    "ES2 = EN * ED2\n",
    "\n",
    "print( ED2 )\n",
    "print( ES2 )"
   ]
  },
  {
   "cell_type": "markdown",
   "metadata": {},
   "source": [
    "### 3. Threshold loss\n",
    "$D(X) = \\mathbf{1}_{[d,\\infty )}(X) X$, with mean $\\mathbb{E}[D(X)] = \\int\\limits_d^\\infty x f(x)\\ dx$"
   ]
  },
  {
   "cell_type": "code",
   "execution_count": 5,
   "metadata": {},
   "outputs": [
    {
     "name": "stdout",
     "output_type": "stream",
     "text": [
      "1981.2611533148074125\n",
      "9906.3057665740370624\n"
     ]
    }
   ],
   "source": [
    "mp.dps = 20\n",
    "d = 400\n",
    "\n",
    "ED3 = mp.quad( lambda x : x * LN( x ), [ d, mp.inf ] )\n",
    "ES3 = EN * ED3\n",
    "\n",
    "print( ED3 )\n",
    "print( ES3 )"
   ]
  },
  {
   "cell_type": "markdown",
   "metadata": {},
   "source": [
    "### 4. Minimum deduction\n",
    "$D(X) = max( X - d, 0 ) = \\mathbf{1}_{[d,\\infty )}(X) ( X - d )$, with mean $\\mathbb{E}[D(X)] = \\int\\limits_d^\\infty x f(x)\\ dx - d ( 1 - F(d) )$"
   ]
  },
  {
   "cell_type": "code",
   "execution_count": 6,
   "metadata": {},
   "outputs": [
    {
     "name": "stdout",
     "output_type": "stream",
     "text": [
      "1909.8704639406163716\n",
      "9549.352319703081858\n"
     ]
    }
   ],
   "source": [
    "ED4 = mp.quad( lambda x : x * LN( x ), [ d, mp.inf ] ) - d * ( 1 - st.lognorm( u, s ).cdf( d ) )\n",
    "ES4 = EN * ED4\n",
    "\n",
    "print( ED4 )\n",
    "print( ES4 )"
   ]
  },
  {
   "cell_type": "markdown",
   "metadata": {},
   "source": [
    "### 5. Maximum loss\n",
    "$D(X) = \\min( X, M ) = \\mathbf{1}_{[0,M)}(X) X  + \\mathbf{1}_{[M,\\infty)}(X) M$, with mean $\\mathbb{E}[D(X)] = \\int\\limits_0^M x f(x)\\ dx + M ( 1 - F(M) )$"
   ]
  },
  {
   "cell_type": "code",
   "execution_count": 7,
   "metadata": {},
   "outputs": [
    {
     "name": "stdout",
     "output_type": "stream",
     "text": [
      "1941.8398068081460333\n",
      "9709.1990340407301666\n"
     ]
    }
   ],
   "source": [
    "M = 9000\n",
    "\n",
    "ED5 = mp.quad( lambda x : x * LN( x ), [ 0, M ] ) + M * ( 1 - st.lognorm( u, s ).cdf( M ) )\n",
    "ES5 = EN * ED5\n",
    "\n",
    "print( ED5 )\n",
    "print( ES5 )"
   ]
  },
  {
   "cell_type": "markdown",
   "metadata": {},
   "source": [
    "\\begin{eqnarray}\n",
    "D(X) \n",
    "& = & \\min\\bigg( \\max( X - d, 0 ), M \\bigg) \\\\\n",
    "& = & \\mathbf{1}_{[0,M)}(X-d)( X - d ) + \\mathbf{1}_{[M,\\infty)}(X-d) M \\\\\n",
    "& = & \\mathbf{1}_{[d,M+d)}(X)( X - d ) + \\mathbf{1}_{[M+d,\\infty)}(X) M\n",
    "\\end{eqnarray}\n",
    "\n",
    "\\begin{eqnarray}\n",
    "\\mathbb{E}[D(X)] \n",
    "& = & \\int\\limits_d^{M+d} x f(x)\\ dx - d P( d \\leq X < M + d ) + M ( 1 - F(M + d) ) \\\\\n",
    "& = & \\int\\limits_d^{M+d} x f(x)\\ dx - d ( F( M + d ) - F( d ) ) + M ( 1 - F(M + d) )\n",
    "\\end{eqnarray}\n"
   ]
  },
  {
   "cell_type": "markdown",
   "metadata": {},
   "source": [
    "### 7. Stop loss\n",
    "$S = \\sum\\limits_{i=1}^{n} X_i$ and \n",
    "\\begin{equation}\n",
    "D(S) \n",
    "= \\max\\left\\{ S - d, 0 \\right\\}\n",
    "= \\max\\left\\{ \\sum\\limits_{i=1}^{n} X_i - d, 0 \\right\\}\n",
    "\\end{equation}"
   ]
  },
  {
   "cell_type": "code",
   "execution_count": 8,
   "metadata": {},
   "outputs": [
    {
     "name": "stdout",
     "output_type": "stream",
     "text": [
      "19697.739231965231988\n"
     ]
    }
   ],
   "source": [
    "n = 10\n",
    "ES6 = n * mp.quad( lambda x : x * LN( x ), [ d, mp.inf ] ) - d * ( 1 - st.lognorm( u, s ).cdf( d / n ) )\n",
    "\n",
    "print( ES6 )"
   ]
  },
  {
   "cell_type": "markdown",
   "metadata": {},
   "source": [
    "### 7. Maximum loss\n",
    "$S = \\sum\\limits_{i=1}^{n} X_i$ and \n",
    "\\begin{equation}\n",
    "D(S) \n",
    "= \\min\\left\\{ S, M \\right\\}\n",
    "= \\min\\left\\{ \\sum\\limits_{i=1}^{n} X_i, M \\right\\}\n",
    "\\end{equation}\n",
    "with mean "
   ]
  },
  {
   "cell_type": "code",
   "execution_count": 9,
   "metadata": {},
   "outputs": [
    {
     "name": "stdout",
     "output_type": "stream",
     "text": [
      "1850.5586345660439031\n"
     ]
    }
   ],
   "source": [
    "n = 20\n",
    "\n",
    "ES7 = mp.quad( lambda x : x * LN( x ), [ d, mp.inf ] ) - d * ( 1 - st.lognorm( u, s ).cdf( d / n ) )\n",
    "\n",
    "print( ES7 )"
   ]
  },
  {
   "cell_type": "markdown",
   "metadata": {},
   "source": [
    "## 8. Maximum frequency\n",
    "\\begin{equation}\n",
    "D(S) \n",
    "= \\sum\\limits_{i=1}^{\\min(N,K)} X_i\n",
    "\\end{equation}\n",
    "\n",
    "\\begin{eqnarray}\n",
    "\\mathbb{E}[D(S)]\n",
    "& = & \\mathbb{E}\\left[ \\sum\\limits_{i=1}^{\\min(N,K)} X_i \\right] \\\\\n",
    "& = & \\sum_{n=0}^{\\infty} \\mathbb{E}\\left[ \\sum\\limits_{i=1}^{\\min(N,K)} X_i \\middle| N = n \\right] P( N = n ) \\\\\n",
    "& = & \\sum_{n=0}^{\\infty} \\sum\\limits_{i=1}^{\\min(n,K)} \\mathbb{E}[X_i] P( N = n ) \\\\\n",
    "& = & \\sum_{n=0}^{\\infty} \\min(n,K) \\mathbb{E}[X] P( N = n ) \\\\\n",
    "& = & \\left[ \\sum_{n=0}^{K} n P( N = n ) +  K P( N > K ) \\right] \\mathbb{E}[X]\n",
    "\\end{eqnarray}"
   ]
  },
  {
   "cell_type": "code",
   "execution_count": 10,
   "metadata": {},
   "outputs": [
    {
     "name": "stdout",
     "output_type": "stream",
     "text": [
      "8446.431727956338\n"
     ]
    }
   ],
   "source": [
    "K = 5\n",
    "ES8 = ( np.sum( [ n * st.poisson.pmf( n, lam ) for n in range( 0, K + 1 ) ] ) + K * ( 1 - st.poisson.cdf( K, lam ) ) ) * EX\n",
    "\n",
    "print( ES8 )"
   ]
  }
 ],
 "metadata": {
  "kernelspec": {
   "display_name": "Python 3",
   "language": "python",
   "name": "python3"
  },
  "language_info": {
   "codemirror_mode": {
    "name": "ipython",
    "version": 3
   },
   "file_extension": ".py",
   "mimetype": "text/x-python",
   "name": "python",
   "nbconvert_exporter": "python",
   "pygments_lexer": "ipython3",
   "version": "3.9.1"
  }
 },
 "nbformat": 4,
 "nbformat_minor": 5
}
